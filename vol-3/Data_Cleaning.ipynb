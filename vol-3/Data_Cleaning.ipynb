{
 "cells": [
  {
   "cell_type": "code",
   "execution_count": 7,
   "metadata": {},
   "outputs": [],
   "source": [
    "import numpy as np\n",
    "from scipy.io import loadmat\n",
    "from matplotlib import pyplot as plt\n",
    "import os\n",
    "import pandas as pd\n",
    "from pathlib import Path\n",
    "# data_directory = '/mnt/c/Repositories/cannon-curtis-spencer-tyler-acme/vol-3/Data'\n",
    "# os.chdir(data_directory)"
   ]
  },
  {
   "cell_type": "code",
   "execution_count": 8,
   "metadata": {},
   "outputs": [],
   "source": [
    "def plot_time_signals(data,fs,plotname):\n",
    "    time_axis = np.arange(len(data))/fs\n",
    "    plt.figure(figsize=(20,5))\n",
    "    for i in range(data.shape[1]):\n",
    "        plt.subplot(2,4,i+1)\n",
    "        # plt.plot(time_axis,data[:,i])\n",
    "        plt.plot(time_axis[:1000],data[:1000,i]) #I only plotted 1/10 of the data so it actually looked like something\n",
    "        plt.xlabel('Time (s)')\n",
    "        plt.ylabel('Voltage')\n",
    "        plt.title(f\"Mic {i+1}\")\n",
    "        # plt.suptitle(\"Microphone Data (Time Domain)\")\n",
    "        plt.suptitle(f'Mic Data ({plotname})')\n",
    "        plt.tight_layout()\n",
    "    plt.show()\n",
    "def plot_mic_positions(pos_data):\n",
    "    #Simply plots the microphone positions\n",
    "    plt.plot(pos_data[:,0],pos_data[:,1],'o')\n",
    "    plt.xlabel('x pos (m)')\n",
    "    plt.ylabel('y pos (m)')\n",
    "    plt.title('Microphone Positions')\n",
    "    plt.show()"
   ]
  },
  {
   "cell_type": "code",
   "execution_count": 9,
   "metadata": {},
   "outputs": [
    {
     "name": "stdout",
     "output_type": "stream",
     "text": [
      "Time Data Sample: [[-4.15039062e-03 -1.38549805e-02 -5.03540039e-03  1.52587891e-04\n",
      "  -9.76562500e-04 -3.66210938e-04 -1.41296387e-02]\n",
      " [-4.18090820e-03 -1.38854980e-02 -5.06591797e-03  1.22070312e-04\n",
      "  -9.46044922e-04 -3.66210938e-04 -1.41601562e-02]\n",
      " [-4.15039062e-03 -1.38549805e-02 -5.06591797e-03  1.22070312e-04\n",
      "  -9.76562500e-04 -3.66210938e-04 -1.41296387e-02]\n",
      " [-4.15039062e-03 -1.38549805e-02 -5.06591797e-03  1.22070312e-04\n",
      "  -9.76562500e-04 -3.66210938e-04 -1.41296387e-02]\n",
      " [-4.15039062e-03 -1.38244629e-02 -5.06591797e-03  1.22070312e-04\n",
      "  -9.46044922e-04 -3.66210938e-04 -1.41296387e-02]\n",
      " [-4.15039062e-03 -1.38854980e-02 -5.03540039e-03  1.52587891e-04\n",
      "  -9.76562500e-04 -3.66210938e-04 -1.41296387e-02]\n",
      " [-4.15039062e-03 -1.38244629e-02 -5.06591797e-03  1.52587891e-04\n",
      "  -9.76562500e-04 -3.66210938e-04 -1.41296387e-02]\n",
      " [-4.15039062e-03 -1.38549805e-02 -5.06591797e-03  1.22070312e-04\n",
      "  -9.76562500e-04 -3.66210938e-04 -1.41296387e-02]\n",
      " [-4.15039062e-03 -1.38549805e-02 -5.06591797e-03  1.22070312e-04\n",
      "  -9.76562500e-04 -3.66210938e-04 -1.40991211e-02]\n",
      " [-4.60815430e-03 -1.38549805e-02 -5.88989258e-03 -6.10351562e-05\n",
      "  -1.06811523e-03 -3.96728516e-04 -1.46484375e-02]]\n"
     ]
    }
   ],
   "source": [
    "#Get names of all .mat files\n",
    "fnames = os.listdir(\"Data\")\n",
    "fnames = [f for f in fnames if f[-4:]=='.mat']\n",
    "\n",
    "#Read it in as data\n",
    "for file in fnames:\n",
    "    try:\n",
    "        #Read in .mat file as a dictionary using scipy io\n",
    "        data = loadmat(f\"Data/{file}\")\n",
    "        # print(data.keys())\n",
    "        # Get relevant data (pop channel 8 because it's incorrect according to line 10 of \"Real_Full.m\")\n",
    "        time_data = data['data'][:,:-1]\n",
    "        pos_data = data['micPositions'][:-1]\n",
    "        fs = data['fs'][0][0]\n",
    "        # label = data['label'] #There should be a \"label\" dictionary key but I wasn't getting it to work. Might be a quirk of reading in matlab's .mat files\n",
    "        \n",
    "        #Plot the time signal and the mic positions\n",
    "        plotname = file.replace('_',' ')\n",
    "        plotname = plotname[:-4]\n",
    "        # plot_time_signals(time_data,fs,plotname)\n",
    "        # plot_mic_positions(pos_data)\n",
    "        \n",
    "        out_pressure_file = \"pressures.csv\"\n",
    "        out_position_file = \"positions.csv\"\n",
    "\n",
    "        out_dir = Path(f\"Data/{file.split('.')[0]}/\")\n",
    "        \n",
    "        out_dir.mkdir(parents=True, exist_ok=True)\n",
    "        \n",
    "        pd.DataFrame(time_data, columns=[f\"mic_{n}_pressure_Pa\" for n in range(time_data.shape[1])]).to_csv(out_dir / out_pressure_file)\n",
    "        pd.DataFrame(pos_data, columns=[\"X_meters\", \"Y_meters\"]).to_csv(out_dir / out_position_file)\n",
    "\n",
    "        # We can hard-code the frequency as 48000 since this is universal\n",
    "        # with open(out_dir / \"frequency_hz.txt\", \"w\") as text_file:\n",
    "        #     text_file.write(str(fs))\n",
    "    except KeyError:\n",
    "        print(\"Invalid Key\")\n",
    "print(\"Time Data Sample:\",time_data[:10])"
   ]
  },
  {
   "cell_type": "markdown",
   "metadata": {},
   "source": [
    "Testing/Validation\\\n",
    "* Data is constantly collected on this project. When we need to validate on new data, we'll be able to ask for new data from the project \\\n",
    "* There are no datasets with angle of arrival precisely known. This complicates validation, but the approximate path is known so we will be able to validate \\\n",
    "\\\n",
    "Notes:\\\n",
    "* The time data looks to be in the expected range of mV\\\n",
    "* The plots look like expected microphone data for the various noise scenarios\\\n",
    "\\\n",
    "Future Data Collection/Requests:\\\n",
    "* We will request data with a moving sound source as well as data of someone talking without noise in the background.\\\n",
    "\\\n",
    "Future work:\\\n",
    "* The normal Kalman filter may not be the ideal tool for this situation, as angles are distributed along a circle [0,2π] instead of the whole real line like the normal distribution and in turn the Kalman filter assumes. We need to investigate how to deal with doing arithmetic around the circle, as well as exploring adjusting the Kalman filter to work with \"circular\" normal distributions instead of the standard normal\\\n",
    "* We also need to investigate different algorithms for calculated direction of arrival, including using GCC and GCCPHAT methods of angle calculation\\\n",
    "* We want to find the best way to predict the actual measured angle of arrival since current methods predict 2 angles for each mic pair based on a line of symmetry. This may be a simple circular mean, or by using a Bayesian update.\\\n",
    "* We also want to investigate if there's a robust way to predict whether or not there is a source present in order to know whether we should perform prediction + update or only preform prediction at a given update\\\n",
    "* We need to investigate using a state evolution based on angular velocity, and how it performs against estimating the state evolution equations with methods discussed in class.\\\n",
    "* We might also need to use a particle filter or unscented Kalman filter instead of the standard filter. We will explore alternative algorithms for use in the project.\\"
   ]
  }
 ],
 "metadata": {
  "kernelspec": {
   "display_name": "Python 3",
   "language": "python",
   "name": "python3"
  },
  "language_info": {
   "codemirror_mode": {
    "name": "ipython",
    "version": 3
   },
   "file_extension": ".py",
   "mimetype": "text/x-python",
   "name": "python",
   "nbconvert_exporter": "python",
   "pygments_lexer": "ipython3",
   "version": "3.10.13"
  }
 },
 "nbformat": 4,
 "nbformat_minor": 2
}
