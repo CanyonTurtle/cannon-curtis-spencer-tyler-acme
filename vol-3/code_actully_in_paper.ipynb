{
 "cells": [
  {
   "cell_type": "code",
   "execution_count": 1,
   "metadata": {},
   "outputs": [],
   "source": [
    "from abc import ABC\n",
    "import numpy as np\n",
    "from typing import Tuple\n",
    "from matplotlib import pyplot as plt"
   ]
  },
  {
   "cell_type": "code",
   "execution_count": 3,
   "metadata": {},
   "outputs": [],
   "source": [
    "AngleTimeseries = np.ndarray\n",
    "\n",
    "class AngleFilter(ABC):\n",
    "    def run_filter(self, angles: AngleTimeseries) -> AngleTimeseries:\n",
    "        \"\"\"Given angles at each timestep, run a filter on the angles and return filters and errors over time.\n",
    "\n",
    "        Args:\n",
    "            angle_timeseries (np.ndarray): The angle data over time.\n",
    "\n",
    "        Returns:\n",
    "            np.ndarray: The angles.\n",
    "        \"\"\"\n",
    "        pass\n",
    "        "
   ]
  },
  {
   "cell_type": "code",
   "execution_count": null,
   "metadata": {},
   "outputs": [],
   "source": [
    "def graph_filter(angle_filter: AngleFilter, angles: AngleTimeseries, graph_title: str) -> None:\n",
    "    filtered_angles = angle_filter.run_filter(angles)\n",
    "    t = range(len(filtered_angles))\n",
    "    \n",
    "    fig, (a0, a1) = plt.subplots(1, 2, figsize=(6, 3))\n",
    "    a0.plot(t, angles, label=\"Observed angle\")\n",
    "    a0.plot(t, filtered_angles, label=\"Filtered angle\")\n",
    "    a1.polar(filtered_angles, np.ones_like(filtered_angles))\n",
    "    fig.suptitle(graph_title)\n",
    "    fig.show()\n",
    "    "
   ]
  },
  {
   "cell_type": "code",
   "execution_count": null,
   "metadata": {},
   "outputs": [],
   "source": [
    "\n",
    "class LeakyFilter(AngleFilter):\n",
    "    def run_filter(angles: AngleTimeseries) -> AngleTimeseries:\n",
    "        N = 10\n",
    "        filtered_angles = np.zeros_like(angles)\n",
    "        for i in range(len(angles)):\n",
    "            if i < N:\n",
    "                filtered_angles[i] = angles[i]\n",
    "            else:\n",
    "                filtered_angles[i] = np.mean(np.concatenate(filtered_angles[i-N+1:i], angles[i:i+1]))\n",
    "        return filtered_angles"
   ]
  },
  {
   "cell_type": "code",
   "execution_count": null,
   "metadata": {},
   "outputs": [],
   "source": [
    "dataset: AngleTimeseries = np.linspace(0, 2*np.pi, 1000)\n",
    "graph_filter(LeakyFilter(), dataset)"
   ]
  }
 ],
 "metadata": {
  "kernelspec": {
   "display_name": "Python 3",
   "language": "python",
   "name": "python3"
  },
  "language_info": {
   "codemirror_mode": {
    "name": "ipython",
    "version": 3
   },
   "file_extension": ".py",
   "mimetype": "text/x-python",
   "name": "python",
   "nbconvert_exporter": "python",
   "pygments_lexer": "ipython3",
   "version": "3.10.13"
  }
 },
 "nbformat": 4,
 "nbformat_minor": 2
}
