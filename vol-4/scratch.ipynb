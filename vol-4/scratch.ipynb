{
 "cells": [
  {
   "cell_type": "code",
   "execution_count": 3,
   "metadata": {},
   "outputs": [],
   "source": [
    "import numpy as np\n",
    "from scipy.integrate import solve_bvp\n",
    "from scipy.integrate._bvp import BVPResult\n",
    "from matplotlib import pyplot as plt\n",
    "\n",
    "from typing import List, Tuple, Callable\n",
    "\n",
    "from matplotlib import animation\n",
    "import matplotlib as mpl\n",
    "\n",
    "from collections import defaultdict\n",
    "\n",
    "import subprocess\n",
    "import shlex\n",
    "from scipy.special import ellipe"
   ]
  },
  {
   "cell_type": "code",
   "execution_count": 65,
   "metadata": {},
   "outputs": [],
   "source": [
    "class Planet:\n",
    "    def __init__(self,name,mass,R1,R2,velocity,radius=0,t0=0):\n",
    "        \"\"\"\n",
    "        Class to hold all of the parameters of a planet\n",
    "        mass = units of kg\n",
    "        R1 is major axis (a) of orbit, R2 is minor axis (b)\n",
    "        R1,R2 = units of m\n",
    "        #Speed the planet goes through orbit\n",
    "        velocity = units of m/s\n",
    "        \n",
    "        Instead of specifying initial planetary position, specify how long it is into its orbit in\n",
    "        t0 = units of earth years\n",
    "        \"\"\"\n",
    "        #Initialize parameters\n",
    "        self.mass = mass\n",
    "        self.t0 = t0\n",
    "        self.R1 = R1\n",
    "        self.R2 = R2\n",
    "        self.velocity = velocity\n",
    "        self.name = name\n",
    "        self.radius = radius\n",
    "        #Calculate circumference of ellipse:\n",
    "        #calculate the circumference of the ellipse using scipy special ellipse integral\n",
    "        eccentricity_squared = 1-(R2**2)/(R1**2)\n",
    "        Circumference = 4*R1*ellipe(eccentricity_squared)\n",
    "        #calculate angular velocity given circumference of orbit, velocity:\n",
    "        # print(Circumference)\n",
    "        #(m/s)/m = /s, /s *2*pi = radians/s = ω, angular frequency/velocity\n",
    "        #So we need 2π*velocity/circumference\n",
    "        self.omega = 2*np.pi*velocity/Circumference #omega is in units of radians/second\n",
    "\n",
    "    def position(self,t):\n",
    "        \"\"\"\n",
    "        Even though our units are specified in seconds, we probably want t here to be years\n",
    "        t = time, units of years, subject to change\n",
    "        \"\"\"\n",
    "        t_new = t + self.t0#add in current + initial time\n",
    "        t_new = 31536000*t_new#convert from years to seconds\n",
    "        return np.array([self.R1*np.cos(self.omega*t_new),self.R2*np.sin(self.omega*t_new)])\n",
    "    def px(self,t):\n",
    "        \"\"\"\n",
    "        Even though our units are specified in seconds, we probably want t here to be years\n",
    "        t = time, units of years, subject to change\n",
    "        \"\"\"\n",
    "        t_new = t + self.t0#add in current + initial time\n",
    "        t_new = 31536000*t_new#convert from years to seconds\n",
    "        return self.R1*np.cos(self.omega*t_new)\n",
    "    def py(self,t):\n",
    "        \"\"\"\n",
    "        Even though our units are specified in seconds, we probably want t here to be years\n",
    "        t = time, units of years, subject to change\n",
    "\n",
    "        Returns position in km\n",
    "        \"\"\"\n",
    "        t_new = t + self.t0#add in current + initial time\n",
    "        t_new = 31536000*t_new#convert from years to seconds\n",
    "        return self.R2*np.sin(self.omega*t_new)\n",
    "    def velocity_vector(self,t):\n",
    "        \"\"\"\n",
    "        t = units of time\n",
    "        Returns velocity in km/s\n",
    "\n",
    "        \"\"\"\n",
    "        t_new = t + self.t0#add in current + initial time\n",
    "        t_new = 31536000*t_new#convert from years to seconds\n",
    "        # (31536000+21600)*t_new\n",
    "        #calculate unit vector in dir of velocity\n",
    "        # unit_vector = np.array([-self.R1*np.sin(self.omega*t_new),self.R2*np.cos(self.omega*t_new)])\n",
    "        # unit_vector = unit_vector/np.linalg.norm(unit_vector)\n",
    "        # return unit_vector*self.velocity\n",
    "        return self.omega*np.array([-self.R1*np.sin(self.omega*t_new),self.R2*np.cos(self.omega*t_new)])\n",
    "    def plot_orbit(self,t0,t1):\n",
    "        t_span = np.linspace(t0,t1,250)\n",
    "        positions = self.position(t_span)\n",
    "        plt.plot(positions[0,:],positions[1,:],label = self.name)\n",
    "        plt.xlabel(\"x position (m)\")\n",
    "        plt.ylabel(\"y position (m)\")\n",
    "        plt.legend()\n",
    "#test velocity:\n",
    "# Earth = Planet(name='Earth',mass=5.9722e24,R1=147.1e9,R2=152.1e9,velocity = 29.78e3,t0=0)\n",
    "# v1 = Earth.velocity_vector(0)\n",
    "# print(v1)\n",
    "# print(np.linalg.norm(v1))\n",
    "# v2 = Earth.velocity_vector(.123)\n",
    "# print(np.linalg.norm(v2))\n",
    "# v1 = Earth.velocity_vector(.25)\n",
    "# print(np.linalg.norm(v1))\n",
    "# test = np.array([1,2])\n",
    "# a,b = test\n",
    "# print(a,b)"
   ]
  },
  {
   "cell_type": "code",
   "execution_count": 18,
   "metadata": {},
   "outputs": [],
   "source": [
    "\n",
    "# ----- WARNING SUPPRESSION -----\n",
    "# This should not be used lightly. This is primarily for formatting reasons for our paper.\n",
    "import warnings\n",
    "warnings.filterwarnings('ignore')\n",
    "\n",
    "DEFAULT_FIGSIZE = (5, 5)\n",
    "plt.rcParams['figure.figsize'] = DEFAULT_FIGSIZE\n",
    "plt.rcParams.update({'font.size': 6})\n",
    "\n",
    "mpl.rcParams[\"figure.dpi\"] = 300\n",
    "\n",
    "# ---- ENABLE LATEX MATPLOTLIB FONT -----\n",
    "# Don't run this cell if you have issues with your latex installation\n",
    "# Use LaTeX fonts\n",
    "plt.rcParams.update({\n",
    "    \"text.usetex\": True,\n",
    "    \"font.family\": \"Computer Modern Roman\"\n",
    "})\n",
    "\n",
    "plt.style.use(\"seaborn-v0_8-muted\")"
   ]
  },
  {
   "cell_type": "code",
   "execution_count": 70,
   "metadata": {},
   "outputs": [],
   "source": [
    "\n",
    "PlanetType = Tuple[float, Callable[[np.ndarray], np.ndarray], Callable[[np.ndarray], np.ndarray]]\n",
    "\n",
    "# this stores a list of planets with each planet's mass and position with [mass, pos_x, pos_y]\n",
    "\n",
    "def norm(sx, sy, px, py):\n",
    "        return ((sx-px)**2 + (sy-py)**2)**(1/2)\n",
    "\n",
    "def best_path(\n",
    "    planets: List[Planet],\n",
    "    T: float,\n",
    "    figname: str | None = None,\n",
    "    animname: str | None = None,\n",
    "    N_COMPUTE_STEPS: int = 10000,\n",
    "    N_ANIM_FRAMES: int = 50,\n",
    "    ANIM_LEN_SEC: float = 3,\n",
    "    max_nodes: int = 100000,\n",
    ") -> BVPResult:\n",
    "    \"\"\"Solve a boundary value problem to get from planet 0 to planet 1. Graph and animate results.\n",
    "\n",
    "    Args:\n",
    "        planets (List[PlanetType]): List of planets. Must have at least 2.\n",
    "        T (float): Final time.\n",
    "        figname (str | None, optional): If str, save a figure to this path. Defaults to None.\n",
    "        animname (str | None, optional): If str, save an animation to this path. Defaults to None.\n",
    "        N_COMPUTE_STEPS (int, optional): Number of time steps to use. Defaults to 10000.\n",
    "        N_ANIM_FRAMES (int, optional): Number of frames in the animation total. Defaults to 50.\n",
    "        ANIM_LEN_SEC (float, optional): Duration of the animation. Defaults to 3.\n",
    "        max_nodes (int, optional): Max nodes for BVP solver. 1000 ends too quickly.\n",
    "    Returns:\n",
    "        BVPResult: Result of solving the BVP.\n",
    "    \"\"\"\n",
    "    \n",
    "    #G = 6.674e-11\n",
    "    G=0.1\n",
    "    def ode(t, y):\n",
    "        '''\n",
    "        sx: spaceship x position\n",
    "        sy: spaceship y position\n",
    "        dsx: spaceship x velocity\n",
    "        dsy: spaceship y velocity\n",
    "        fuel: fuel at time t\n",
    "        p1, p2, p3, p4: costate vars\n",
    "            '''\n",
    "        sx, sy = y[0], y[1]\n",
    "        dsx, dsy = y[2], y[3]\n",
    "        p1, p2, p3, p4 = y[4], y[5], y[6], y[7]\n",
    "\n",
    "        # ddsx = G * sum([mp*(sx-px(t))/(norm(sx, sy, px(t), py(t)))**3 for mp, px, py in planets] + p3/2)\n",
    "        # ddsy = G * sum([mp*(sy-py(t))/(norm(sx, sy, px(t), py(t)))**3 for mp, px, py in planets] + p4/2)\n",
    "\n",
    "        # dp1 = -p3*(G * sum([mp/norm(sx, sy, px(t), py(t))**3 - 3*mp*(sx - px(t))**2/norm(sx, sy, px(t), py(t))**5 for mp, px, py in planets]))\n",
    "        # dp2 = -p4*(G * sum([mp/norm(sx, sy, px(t), py(t))**3 - 3*mp*(sy - py(t))**2/norm(sx, sy, px(t), py(t))**5 for mp, px, py in planets]))\n",
    "        ddsx = G * sum([planet.mass*(sx-planet.px(t))/(norm(sx, sy, planet.px(t), planet.py(t)))**3 for planet in planets] + p3/2)\n",
    "        ddsy = G * sum([planet.mass*(sy-planet.py(t))/(norm(sx, sy, planet.px(t), planet.py(t)))**3 for planet in planets] + p4/2)\n",
    "\n",
    "        dp1 = -p3*(G * sum([planet.mass/norm(sx, sy, planet.px(t), planet.py(t))**3 - 3*planet.mass*(sx - planet.px(t))**2/norm(sx, sy, planet.px(t), planet.py(t))**5 for planet in planets]))\n",
    "        dp2 = -p4*(G * sum([planet.mass/norm(sx, sy, planet.px(t), planet.py(t))**3 - 3*planet.mass*(sy - planet.py(t))**2/norm(sx, sy, planet.px(t), planet.py(t))**5 for planet in planets]))\n",
    "\n",
    "        dp3 = -p1\n",
    "        dp4 = -p2\n",
    "\n",
    "        return np.array([dsx, dsy, ddsx, ddsy, dp1, dp2, dp3, dp4])\n",
    "\n",
    "    #Position BCs\n",
    "    target_start_x = planets[0].px(0)\n",
    "    target_start_y = planets[0].py(0)\n",
    "    target_end_x = planets[1].px(T)\n",
    "    target_end_y = planets[1].py(T)\n",
    "    #Velocity BCs\n",
    "    velocity_start_x,velocity_start_y = planets[0].velocity_vector(0)\n",
    "    velocity_end_x,velocity_end_y = planets[1].velocity_vector(T)\n",
    "    # print(velocity_start_x,velocity_start_y,velocity_end_x,velocity_end_y,)\n",
    "    \n",
    "    # target_start_x = planets[0].px(0)\n",
    "    # target_start_y = planet.\n",
    "    # target_end_x = planets[1][1](T)\n",
    "    # target_end_y = planets[1][2](T)\n",
    "    def bc(ya, yb):\n",
    "        return np.array([\n",
    "            # Start at first planet x, y, with velocity matching the initial planet\n",
    "            ya[0] - target_start_x,\n",
    "            ya[1] - target_start_y,\n",
    "            ya[2] - velocity_start_x,\n",
    "            ya[3] - velocity_start_y,\n",
    "            \n",
    "            # End at second planet's x/y, with velocity matching the final planet\n",
    "            yb[0] - target_end_x,\n",
    "            yb[1] - target_end_y,\n",
    "            yb[2] - velocity_end_x,\n",
    "            yb[3] - velocity_end_y,\n",
    "        ])\n",
    "\n",
    "    t = np.linspace(0, T, N_COMPUTE_STEPS)\n",
    "    y_guess = np.ones((8, t.size))*1e10\n",
    "    # y_guess[0:2,0] = [ship_start_x, ship_start_y]\n",
    "    # y_guess[0:2,-1] = [ship_end_x, ship_end_y]\n",
    "\n",
    "    print(\"Running solve_bvp...\")\n",
    "    soln = solve_bvp(ode, bc, t, y_guess, verbose=2, max_nodes=max_nodes)\n",
    "\n",
    "    sx = soln.sol(t)[0]\n",
    "    sy = soln.sol(t)[1]\n",
    "    vx = soln.sol(t)[2]\n",
    "    vy = soln.sol(t)[3]\n",
    "    speed = np.sqrt(vx**2+vy**2)\n",
    "    \n",
    "    ux = soln.sol(t)[6]/2\n",
    "    uy = soln.sol(t)[7]/2\n",
    "\n",
    "    fig, (ax1, ax2) = plt.subplots(2,1, gridspec_kw={\"height_ratios\": [2, 1]})\n",
    "    \n",
    "    #????????????????????????????????????????????????????????????????????????????????????\n",
    "    masses = [planet.mass for planet in planets]\n",
    "    min_mass = min(masses)\n",
    "    max_mass = max(masses)\n",
    "    min_radius = 5\n",
    "    max_radius = 12\n",
    "    def mass_to_radius(mass):\n",
    "        return min_radius + (mass - min_mass) / (max_mass - min_mass+0.1) * (max_radius - min_radius)\n",
    "    #????????????????????????????????????????????????????????????????????????????????????\n",
    "    planet_x_ts = []\n",
    "    planet_y_ts = []\n",
    "    planet_trajectories = []\n",
    "    planet_points = []\n",
    "\n",
    "    #WE COULD USE THE PLANET CLASS PRE-BUILT PLOTTING TO DO THIS PROBABLY\n",
    "    for i, planet in enumerate(planets):\n",
    "        pxt = planet.px(t)\n",
    "        pyt = planet.py(t)\n",
    "        planet_x_ts.append(pxt)\n",
    "        planet_y_ts.append(pyt)\n",
    "        color = next(ax1._get_lines.prop_cycler)['color']\n",
    "        planet_trajectories.append(ax1.plot(pxt, pyt, label=f'planet {i+1}', color=color)[0])\n",
    "        \n",
    "        \n",
    "        \n",
    "        planet_points.append(ax1.plot(pxt[-1], pyt[-1], \"o\", color=color, markersize=mass_to_radius(planet.mass))[0])\n",
    "    \n",
    "    control_x_graph, = ax2.plot(t, ux, label='control in x direction')\n",
    "    control_y_graph, = ax2.plot(t, uy, label='control in y direction')\n",
    "\n",
    "    color = next(ax1._get_lines.prop_cycler)['color']\n",
    "\n",
    "    ss_point, = ax1.plot(sx[-1], sy[-1], \"o\", color=color)\n",
    "    ss_trajectory_plot, = ax1.plot(sx, sy, color=color, label='Optimal Path')\n",
    "    \n",
    "    ax1.set(xlabel=\"x\", ylabel=\"y\", title=\"Optimal Path\")\n",
    "    ax1.legend(loc=\"center left\", bbox_to_anchor=(1, 0.5, 0.3, 0.3), bbox_transform=ax1.transAxes)\n",
    "    ax2.set(title='Optimal Control', xlabel=\"Time\", ylabel=\"Acceleration\")\n",
    "    ax2.legend(loc=\"center left\", bbox_to_anchor=(1, 0.5, 0.3, 0.3), bbox_transform=ax2.transAxes)\n",
    "    fig.tight_layout()\n",
    "    fig.show()\n",
    "    # Save Figure if applicable\n",
    "    if figname:\n",
    "        fig.savefig(figname, dpi=300)\n",
    "        print(f\"Figure saved to {figname}\")\n",
    "    def plot_velocity():\n",
    "        plt.figure()\n",
    "        plt.plot(t,speed)\n",
    "        plt.show()\n",
    "    plot_velocity()\n",
    "    # Animation\n",
    "    def update_anim(anim_frame):\n",
    "        \n",
    "        i = min(N_COMPUTE_STEPS-1, int((anim_frame+1) / N_ANIM_FRAMES * N_COMPUTE_STEPS))\n",
    "        \n",
    "        # update spaceship graph\n",
    "        ss_trajectory_plot.set_xdata(sx[:i+1])\n",
    "        ss_trajectory_plot.set_ydata(sy[:i+1])\n",
    "        # update spaceship dot\n",
    "        ss_point.set_xdata(sx[i])\n",
    "        ss_point.set_ydata(sy[i])\n",
    "        \n",
    "        # update planets\n",
    "        for j, _ in enumerate(planets):\n",
    "            planet_trajectories[j].set_xdata(planet_x_ts[j][:i+1])\n",
    "            planet_trajectories[j].set_ydata(planet_y_ts[j][:i+1])\n",
    "            \n",
    "            planet_points[j].set_xdata(planet_x_ts[j][i])\n",
    "            planet_points[j].set_ydata(planet_y_ts[j][i])\n",
    "        \n",
    "        # update control expenditure\n",
    "        control_x_graph.set_xdata(t[:i+1])\n",
    "        control_x_graph.set_ydata(ux[:i+1])\n",
    "        \n",
    "        control_y_graph.set_xdata(t[:i+1])\n",
    "        control_y_graph.set_ydata(uy[:i+1])\n",
    "        \n",
    "    # Run and Save Animation if applicable\n",
    "    if animname: \n",
    "        print(\"Saving animation...\")   \n",
    "        anim = animation.FuncAnimation(fig, update_anim, range(N_ANIM_FRAMES), interval=ANIM_LEN_SEC * 1000 // N_ANIM_FRAMES)\n",
    "        anim.save(animname,dpi=300)\n",
    "        print(f\"Animation saved to {animname}\")\n",
    "\n",
    "    plt.close()\n",
    "    \n",
    "    "
   ]
  },
  {
   "cell_type": "code",
   "execution_count": 71,
   "metadata": {},
   "outputs": [
    {
     "name": "stdout",
     "output_type": "stream",
     "text": [
      "-0.0 30275.546664215308 -10262.754322694589 -23058.297278717153\n",
      "Running solve_bvp...\n",
      "   Iteration    Max residual  Max BC residual  Total nodes    Nodes added  \n"
     ]
    },
    {
     "name": "stderr",
     "output_type": "stream",
     "text": [
      "/tmp/ipykernel_1516/2547994508.py:52: RuntimeWarning: invalid value encountered in divide\n",
      "  ddsx = G * sum([planet.mass*(sx-planet.px(t))/(norm(sx, sy, planet.px(t), planet.py(t)))**3 for planet in planets] + p3/2)\n",
      "/tmp/ipykernel_1516/2547994508.py:53: RuntimeWarning: invalid value encountered in divide\n",
      "  ddsy = G * sum([planet.mass*(sy-planet.py(t))/(norm(sx, sy, planet.px(t), planet.py(t)))**3 for planet in planets] + p4/2)\n",
      "/tmp/ipykernel_1516/2547994508.py:55: RuntimeWarning: divide by zero encountered in divide\n",
      "  dp1 = -p3*(G * sum([planet.mass/norm(sx, sy, planet.px(t), planet.py(t))**3 - 3*planet.mass*(sx - planet.px(t))**2/norm(sx, sy, planet.px(t), planet.py(t))**5 for planet in planets]))\n",
      "/tmp/ipykernel_1516/2547994508.py:55: RuntimeWarning: invalid value encountered in divide\n",
      "  dp1 = -p3*(G * sum([planet.mass/norm(sx, sy, planet.px(t), planet.py(t))**3 - 3*planet.mass*(sx - planet.px(t))**2/norm(sx, sy, planet.px(t), planet.py(t))**5 for planet in planets]))\n",
      "/tmp/ipykernel_1516/2547994508.py:56: RuntimeWarning: divide by zero encountered in divide\n",
      "  dp2 = -p4*(G * sum([planet.mass/norm(sx, sy, planet.px(t), planet.py(t))**3 - 3*planet.mass*(sy - planet.py(t))**2/norm(sx, sy, planet.px(t), planet.py(t))**5 for planet in planets]))\n",
      "/tmp/ipykernel_1516/2547994508.py:56: RuntimeWarning: invalid value encountered in divide\n",
      "  dp2 = -p4*(G * sum([planet.mass/norm(sx, sy, planet.px(t), planet.py(t))**3 - 3*planet.mass*(sy - planet.py(t))**2/norm(sx, sy, planet.px(t), planet.py(t))**5 for planet in planets]))\n"
     ]
    },
    {
     "name": "stdout",
     "output_type": "stream",
     "text": [
      "       1          6.40e+02       1.20e+10         10000          18536     \n",
      "       2          1.65e+04       7.52e+08         28536         (32132)    \n",
      "Number of nodes is exceeded after iteration 2. \n",
      "Maximum relative residual: 1.65e+04 \n",
      "Maximum boundary residual: 7.52e+08\n"
     ]
    },
    {
     "name": "stderr",
     "output_type": "stream",
     "text": [
      "/tmp/ipykernel_1516/2547994508.py:151: UserWarning: Matplotlib is currently using module://matplotlib_inline.backend_inline, which is a non-GUI backend, so cannot show the figure.\n",
      "  fig.show()\n"
     ]
    },
    {
     "name": "stdout",
     "output_type": "stream",
     "text": [
      "Figure saved to Earth_Mars_test_velocity.png\n"
     ]
    },
    {
     "data": {
      "image/png": "[encoded data removed]",
      "text/plain": [
       "<Figure size 432x288 with 2 Axes>"
      ]
     },
     "metadata": {
      "needs_background": "light"
     },
     "output_type": "display_data"
    },
    {
     "data": {
      "image/png": "[encoded data removed]",
      "text/plain": [
       "<Figure size 432x288 with 1 Axes>"
      ]
     },
     "metadata": {
      "needs_background": "light"
     },
     "output_type": "display_data"
    },
    {
     "name": "stdout",
     "output_type": "stream",
     "text": [
      "Saving animation...\n",
      "Animation saved to Earth_Mars_test_velocity.mp4\n"
     ]
    }
   ],
   "source": [
    "#Test it with the planets class:\n",
    "Earth = Planet(name='Earth',mass=5.9722e24,R1=147.1e9,R2=152.1e9,velocity = 29.78e3,t0=0)\n",
    "Mars = Planet(name='Mars',mass=6.39e23,R1=207e9,R2=249e9,velocity = 24e3,t0=.25)\n",
    "Mercury = Planet(name='Mercury',mass=3.285e23,R1=46e9,R2=69.82e9,velocity = 47.36e3,t0=.55)\n",
    "Venus = Planet(name='Sun',mass=4.8675e24,R1=107.48e9,R2=108.94e9,velocity = 35.02e3,t0=0.21)\n",
    "planets = [Earth,Mars,Mercury,Venus]\n",
    "best_path(\n",
    "    planets,\n",
    "    .55, \n",
    "    figname='Earth_Mars_test_velocity.png',\n",
    "    animname=\"Earth_Mars_test_velocity.mp4\",\n",
    "    max_nodes=50000\n",
    ")"
   ]
  },
  {
   "cell_type": "code",
   "execution_count": 35,
   "metadata": {},
   "outputs": [
    {
     "name": "stdout",
     "output_type": "stream",
     "text": [
      "147100000.0\n",
      "117526857.45938519\n",
      "Earth\n",
      "Running solve_bvp...\n",
      "   Iteration    Max residual  Max BC residual  Total nodes    Nodes added  \n"
     ]
    },
    {
     "name": "stderr",
     "output_type": "stream",
     "text": [
      "/tmp/ipykernel_1516/3297670572.py:52: RuntimeWarning: invalid value encountered in divide\n",
      "  ddsx = G * sum([planet.mass*(sx-planet.px(t))/(norm(sx, sy, planet.px(t), planet.py(t)))**3 for planet in planets] + p3/2)\n",
      "/tmp/ipykernel_1516/3297670572.py:53: RuntimeWarning: invalid value encountered in divide\n",
      "  ddsy = G * sum([planet.mass*(sy-planet.py(t))/(norm(sx, sy, planet.px(t), planet.py(t)))**3 for planet in planets] + p4/2)\n",
      "/tmp/ipykernel_1516/3297670572.py:55: RuntimeWarning: divide by zero encountered in divide\n",
      "  dp1 = -p3*(G * sum([planet.mass/norm(sx, sy, planet.px(t), planet.py(t))**3 - 3*planet.mass*(sx - planet.px(t))**2/norm(sx, sy, planet.px(t), planet.py(t))**5 for planet in planets]))\n",
      "/tmp/ipykernel_1516/3297670572.py:55: RuntimeWarning: invalid value encountered in divide\n",
      "  dp1 = -p3*(G * sum([planet.mass/norm(sx, sy, planet.px(t), planet.py(t))**3 - 3*planet.mass*(sx - planet.px(t))**2/norm(sx, sy, planet.px(t), planet.py(t))**5 for planet in planets]))\n",
      "/tmp/ipykernel_1516/3297670572.py:56: RuntimeWarning: divide by zero encountered in divide\n",
      "  dp2 = -p4*(G * sum([planet.mass/norm(sx, sy, planet.px(t), planet.py(t))**3 - 3*planet.mass*(sy - planet.py(t))**2/norm(sx, sy, planet.px(t), planet.py(t))**5 for planet in planets]))\n",
      "/tmp/ipykernel_1516/3297670572.py:56: RuntimeWarning: invalid value encountered in divide\n",
      "  dp2 = -p4*(G * sum([planet.mass/norm(sx, sy, planet.px(t), planet.py(t))**3 - 3*planet.mass*(sy - planet.py(t))**2/norm(sx, sy, planet.px(t), planet.py(t))**5 for planet in planets]))\n"
     ]
    },
    {
     "name": "stdout",
     "output_type": "stream",
     "text": [
      "       1          1.29e+05       2.00e+07         10000          19762     \n",
      "       2          2.72e+04       2.81e+06         29762         (50640)    \n",
      "Number of nodes is exceeded after iteration 2. \n",
      "Maximum relative residual: 2.72e+04 \n",
      "Maximum boundary residual: 2.81e+06\n"
     ]
    },
    {
     "name": "stderr",
     "output_type": "stream",
     "text": [
      "/tmp/ipykernel_1516/3297670572.py:149: UserWarning: Matplotlib is currently using module://matplotlib_inline.backend_inline, which is a non-GUI backend, so cannot show the figure.\n",
      "  fig.show()\n"
     ]
    },
    {
     "name": "stdout",
     "output_type": "stream",
     "text": [
      "Figure saved to Earth_Mars_test2.png\n"
     ]
    },
    {
     "data": {
      "image/png": "[encoded data removed]",
      "text/plain": [
       "<Figure size 432x288 with 2 Axes>"
      ]
     },
     "metadata": {
      "needs_background": "light"
     },
     "output_type": "display_data"
    },
    {
     "data": {
      "image/png": "[encoded data removed]",
      "text/plain": [
       "<Figure size 432x288 with 1 Axes>"
      ]
     },
     "metadata": {
      "needs_background": "light"
     },
     "output_type": "display_data"
    },
    {
     "name": "stdout",
     "output_type": "stream",
     "text": [
      "Saving animation...\n",
      "Animation saved to Earth_Mars_test2.mp4\n"
     ]
    }
   ],
   "source": [
    "#Test it with the planets class:\n",
    "Earth = Planet(name='Earth',mass=5.9722e24,R1=147.1e9,R2=152.1e9,velocity = 29.78e3,t0=0)\n",
    "Mars = Planet(name='Mars',mass=6.39e23,R1=207e9,R2=249e9,velocity = 24e3,t0=.25)\n",
    "Mercury = Planet(name='Mercury',mass=3.285e23,R1=46e9,R2=69.82e9,velocity = 47.36e3,t0=.55)\n",
    "Sun = Planet(name='Sun',mass=1.989e30,R1=0.,R2=0.,velocity = 0.,t0=0.)\n",
    "planets = [Earth,Mars,Mercury]#,Sun]\n",
    "best_path(\n",
    "    planets,\n",
    "    .55, \n",
    "    figname='Earth_Mars_test2.png',\n",
    "    animname=\"Earth_Mars_test2.mp4\",\n",
    "    max_nodes=50000\n",
    ")"
   ]
  },
  {
   "cell_type": "code",
   "execution_count": 25,
   "metadata": {},
   "outputs": [
    {
     "name": "stdout",
     "output_type": "stream",
     "text": [
      "147100000.0\n",
      "152110831.44119436\n",
      "Earth\n",
      "Running solve_bvp...\n",
      "   Iteration    Max residual  Max BC residual  Total nodes    Nodes added  \n"
     ]
    },
    {
     "name": "stderr",
     "output_type": "stream",
     "text": [
      "/tmp/ipykernel_1516/2311140870.py:52: RuntimeWarning: invalid value encountered in divide\n",
      "  ddsx = G * sum([planet.mass*(sx-planet.px(t))/(norm(sx, sy, planet.px(t), planet.py(t)))**3 for planet in planets] + p3/2)\n",
      "/tmp/ipykernel_1516/2311140870.py:53: RuntimeWarning: invalid value encountered in divide\n",
      "  ddsy = G * sum([planet.mass*(sy-planet.py(t))/(norm(sx, sy, planet.px(t), planet.py(t)))**3 for planet in planets] + p4/2)\n",
      "/tmp/ipykernel_1516/2311140870.py:55: RuntimeWarning: divide by zero encountered in divide\n",
      "  dp1 = -p3*(G * sum([planet.mass/norm(sx, sy, planet.px(t), planet.py(t))**3 - 3*planet.mass*(sx - planet.px(t))**2/norm(sx, sy, planet.px(t), planet.py(t))**5 for planet in planets]))\n",
      "/tmp/ipykernel_1516/2311140870.py:55: RuntimeWarning: invalid value encountered in divide\n",
      "  dp1 = -p3*(G * sum([planet.mass/norm(sx, sy, planet.px(t), planet.py(t))**3 - 3*planet.mass*(sx - planet.px(t))**2/norm(sx, sy, planet.px(t), planet.py(t))**5 for planet in planets]))\n",
      "/tmp/ipykernel_1516/2311140870.py:56: RuntimeWarning: divide by zero encountered in divide\n",
      "  dp2 = -p4*(G * sum([planet.mass/norm(sx, sy, planet.px(t), planet.py(t))**3 - 3*planet.mass*(sy - planet.py(t))**2/norm(sx, sy, planet.px(t), planet.py(t))**5 for planet in planets]))\n",
      "/tmp/ipykernel_1516/2311140870.py:56: RuntimeWarning: invalid value encountered in divide\n",
      "  dp2 = -p4*(G * sum([planet.mass/norm(sx, sy, planet.px(t), planet.py(t))**3 - 3*planet.mass*(sy - planet.py(t))**2/norm(sx, sy, planet.px(t), planet.py(t))**5 for planet in planets]))\n"
     ]
    },
    {
     "name": "stdout",
     "output_type": "stream",
     "text": [
      "       1          1.78e+04       1.54e+07         10000          19861     \n",
      "       2          6.91e+04       2.16e+06         29861         (56112)    \n",
      "Number of nodes is exceeded after iteration 2. \n",
      "Maximum relative residual: 6.91e+04 \n",
      "Maximum boundary residual: 2.16e+06\n"
     ]
    },
    {
     "name": "stderr",
     "output_type": "stream",
     "text": [
      "/tmp/ipykernel_1516/2311140870.py:146: UserWarning: Matplotlib is currently using module://matplotlib_inline.backend_inline, which is a non-GUI backend, so cannot show the figure.\n",
      "  fig.show()\n"
     ]
    },
    {
     "name": "stdout",
     "output_type": "stream",
     "text": [
      "Figure saved to Earth_Mars_test.png\n",
      "Saving animation...\n",
      "Animation saved to Earth_Mars_test.mp4\n"
     ]
    }
   ],
   "source": [
    "#Test it with the planets class:\n",
    "Earth = Planet(name='Earth',mass=5.9722e24,R1=147.1e9,R2=152.1e9,velocity = 29.78e3,t0=0)\n",
    "Mars = Planet(name='Mars',mass=6.39e23,R1=207e9,R2=249e9,velocity = 24e3,t0=.25)\n",
    "Mercury = Planet(name='Mercury',mass=3.285e23,R1=46e9,R2=69.82e9,velocity = 47.36e3,t0=.55)\n",
    "Sun = Planet(name='Sun',mass=1.989e30,R1=0.,R2=0.,velocity = 0.,t0=0.)\n",
    "planets = [Earth,Mars]\n",
    "best_path(\n",
    "    planets,\n",
    "    .5, \n",
    "    figname='Earth_Mars_test.png',\n",
    "    animname=\"Earth_Mars_test.mp4\",\n",
    "    max_nodes=50000\n",
    ")"
   ]
  },
  {
   "cell_type": "markdown",
   "metadata": {},
   "source": [
    "We saw that with T = 100000 we got a cool graphic"
   ]
  },
  {
   "cell_type": "code",
   "execution_count": 20,
   "metadata": {},
   "outputs": [
    {
     "name": "stdout",
     "output_type": "stream",
     "text": [
      "Running solve_bvp...\n",
      "   Iteration    Max residual  Max BC residual  Total nodes    Nodes added  \n",
      "       1          1.33e+01       2.46e+00         10000          19998     \n"
     ]
    },
    {
     "ename": "KeyboardInterrupt",
     "evalue": "",
     "output_type": "error",
     "traceback": [
      "\u001b[0;31m---------------------------------------------------------------------------\u001b[0m",
      "\u001b[0;31mKeyboardInterrupt\u001b[0m                         Traceback (most recent call last)",
      "Cell \u001b[0;32mIn[20], line 1\u001b[0m\n\u001b[0;32m----> 1\u001b[0m \u001b[43mbest_path\u001b[49m\u001b[43m(\u001b[49m\n\u001b[1;32m      2\u001b[0m \u001b[43m    \u001b[49m\u001b[43m[\u001b[49m\n\u001b[1;32m      3\u001b[0m \u001b[43m        \u001b[49m\u001b[43m(\u001b[49m\u001b[38;5;241;43m5\u001b[39;49m\u001b[43m,\u001b[49m\u001b[43m \u001b[49m\u001b[38;5;28;43;01mlambda\u001b[39;49;00m\u001b[43m \u001b[49m\u001b[43mt\u001b[49m\u001b[43m:\u001b[49m\u001b[43mnp\u001b[49m\u001b[38;5;241;43m.\u001b[39;49m\u001b[43mones_like\u001b[49m\u001b[43m(\u001b[49m\u001b[43mt\u001b[49m\u001b[43m)\u001b[49m\u001b[38;5;241;43m*\u001b[39;49m\u001b[38;5;241;43m-\u001b[39;49m\u001b[38;5;241;43m1\u001b[39;49m\u001b[43m,\u001b[49m\u001b[43m \u001b[49m\u001b[38;5;28;43;01mlambda\u001b[39;49;00m\u001b[43m \u001b[49m\u001b[43mt\u001b[49m\u001b[43m:\u001b[49m\u001b[43mnp\u001b[49m\u001b[38;5;241;43m.\u001b[39;49m\u001b[43mones_like\u001b[49m\u001b[43m(\u001b[49m\u001b[43mt\u001b[49m\u001b[43m)\u001b[49m\u001b[38;5;241;43m*\u001b[39;49m\u001b[38;5;241;43m-\u001b[39;49m\u001b[38;5;241;43m1\u001b[39;49m\u001b[43m)\u001b[49m\u001b[43m,\u001b[49m\n\u001b[1;32m      4\u001b[0m \u001b[43m        \u001b[49m\u001b[43m(\u001b[49m\u001b[38;5;241;43m10\u001b[39;49m\u001b[43m,\u001b[49m\u001b[43m \u001b[49m\u001b[38;5;28;43;01mlambda\u001b[39;49;00m\u001b[43m \u001b[49m\u001b[43mt\u001b[49m\u001b[43m:\u001b[49m\u001b[43m \u001b[49m\u001b[43mnp\u001b[49m\u001b[38;5;241;43m.\u001b[39;49m\u001b[43mones_like\u001b[49m\u001b[43m(\u001b[49m\u001b[43mt\u001b[49m\u001b[43m)\u001b[49m\u001b[38;5;241;43m*\u001b[39;49m\u001b[38;5;241;43m10\u001b[39;49m\u001b[43m,\u001b[49m\u001b[43m \u001b[49m\u001b[38;5;28;43;01mlambda\u001b[39;49;00m\u001b[43m \u001b[49m\u001b[43mt\u001b[49m\u001b[43m:\u001b[49m\u001b[43m \u001b[49m\u001b[43mnp\u001b[49m\u001b[38;5;241;43m.\u001b[39;49m\u001b[43mones_like\u001b[49m\u001b[43m(\u001b[49m\u001b[43mt\u001b[49m\u001b[43m)\u001b[49m\u001b[38;5;241;43m*\u001b[39;49m\u001b[38;5;241;43m10\u001b[39;49m\u001b[43m)\u001b[49m\u001b[43m,\u001b[49m\n\u001b[1;32m      5\u001b[0m \u001b[43m        \u001b[49m\u001b[43m(\u001b[49m\u001b[38;5;241;43m10\u001b[39;49m\u001b[43m,\u001b[49m\u001b[43m \u001b[49m\u001b[38;5;28;43;01mlambda\u001b[39;49;00m\u001b[43m \u001b[49m\u001b[43mt\u001b[49m\u001b[43m:\u001b[49m\u001b[43mnp\u001b[49m\u001b[38;5;241;43m.\u001b[39;49m\u001b[43mones_like\u001b[49m\u001b[43m(\u001b[49m\u001b[43mt\u001b[49m\u001b[43m)\u001b[49m\u001b[38;5;241;43m*\u001b[39;49m\u001b[38;5;241;43m0\u001b[39;49m\u001b[43m,\u001b[49m\u001b[43m \u001b[49m\u001b[38;5;28;43;01mlambda\u001b[39;49;00m\u001b[43m \u001b[49m\u001b[43mt\u001b[49m\u001b[43m:\u001b[49m\u001b[43mnp\u001b[49m\u001b[38;5;241;43m.\u001b[39;49m\u001b[43mones_like\u001b[49m\u001b[43m(\u001b[49m\u001b[43mt\u001b[49m\u001b[43m)\u001b[49m\u001b[38;5;241;43m*\u001b[39;49m\u001b[38;5;241;43m5\u001b[39;49m\u001b[43m)\u001b[49m\n\u001b[1;32m      6\u001b[0m \u001b[43m    \u001b[49m\u001b[43m]\u001b[49m\u001b[43m,\u001b[49m\n\u001b[1;32m      7\u001b[0m \u001b[43m    \u001b[49m\u001b[38;5;241;43m10\u001b[39;49m\u001b[43m,\u001b[49m\u001b[43m \u001b[49m\n\u001b[1;32m      8\u001b[0m \u001b[43m    \u001b[49m\u001b[43mfigname\u001b[49m\u001b[38;5;241;43m=\u001b[39;49m\u001b[38;5;124;43m'\u001b[39;49m\u001b[38;5;124;43mfig1.pdf\u001b[39;49m\u001b[38;5;124;43m'\u001b[39;49m\u001b[43m,\u001b[49m\n\u001b[1;32m      9\u001b[0m \u001b[43m    \u001b[49m\u001b[43manimname\u001b[49m\u001b[38;5;241;43m=\u001b[39;49m\u001b[38;5;124;43m\"\u001b[39;49m\u001b[38;5;124;43manim1.mp4\u001b[39;49m\u001b[38;5;124;43m\"\u001b[39;49m\u001b[43m,\u001b[49m\n\u001b[1;32m     10\u001b[0m \u001b[43m    \u001b[49m\u001b[43mmax_nodes\u001b[49m\u001b[38;5;241;43m=\u001b[39;49m\u001b[38;5;241;43m50000\u001b[39;49m\n\u001b[1;32m     11\u001b[0m \u001b[43m)\u001b[49m\n",
      "Cell \u001b[0;32mIn[19], line 83\u001b[0m, in \u001b[0;36mbest_path\u001b[0;34m(planets, T, figname, animname, N_COMPUTE_STEPS, N_ANIM_FRAMES, ANIM_LEN_SEC, max_nodes)\u001b[0m\n\u001b[1;32m     79\u001b[0m \u001b[38;5;66;03m# y_guess[0:2,0] = [ship_start_x, ship_start_y]\u001b[39;00m\n\u001b[1;32m     80\u001b[0m \u001b[38;5;66;03m# y_guess[0:2,-1] = [ship_end_x, ship_end_y]\u001b[39;00m\n\u001b[1;32m     82\u001b[0m \u001b[38;5;28mprint\u001b[39m(\u001b[38;5;124m\"\u001b[39m\u001b[38;5;124mRunning solve_bvp...\u001b[39m\u001b[38;5;124m\"\u001b[39m)\n\u001b[0;32m---> 83\u001b[0m soln \u001b[38;5;241m=\u001b[39m \u001b[43msolve_bvp\u001b[49m\u001b[43m(\u001b[49m\u001b[43mode\u001b[49m\u001b[43m,\u001b[49m\u001b[43m \u001b[49m\u001b[43mbc\u001b[49m\u001b[43m,\u001b[49m\u001b[43m \u001b[49m\u001b[43mt\u001b[49m\u001b[43m,\u001b[49m\u001b[43m \u001b[49m\u001b[43my_guess\u001b[49m\u001b[43m,\u001b[49m\u001b[43m \u001b[49m\u001b[43mverbose\u001b[49m\u001b[38;5;241;43m=\u001b[39;49m\u001b[38;5;241;43m2\u001b[39;49m\u001b[43m,\u001b[49m\u001b[43m \u001b[49m\u001b[43mmax_nodes\u001b[49m\u001b[38;5;241;43m=\u001b[39;49m\u001b[43mmax_nodes\u001b[49m\u001b[43m)\u001b[49m\n\u001b[1;32m     85\u001b[0m sx \u001b[38;5;241m=\u001b[39m soln\u001b[38;5;241m.\u001b[39msol(t)[\u001b[38;5;241m0\u001b[39m]\n\u001b[1;32m     86\u001b[0m sy \u001b[38;5;241m=\u001b[39m soln\u001b[38;5;241m.\u001b[39msol(t)[\u001b[38;5;241m1\u001b[39m]\n",
      "File \u001b[0;32m~/.local/lib/python3.10/site-packages/scipy/integrate/_bvp.py:1083\u001b[0m, in \u001b[0;36msolve_bvp\u001b[0;34m(fun, bc, x, y, p, S, fun_jac, bc_jac, tol, max_nodes, verbose, bc_tol)\u001b[0m\n\u001b[1;32m   1079\u001b[0m m \u001b[38;5;241m=\u001b[39m x\u001b[38;5;241m.\u001b[39mshape[\u001b[38;5;241m0\u001b[39m]\n\u001b[1;32m   1081\u001b[0m col_fun, jac_sys \u001b[38;5;241m=\u001b[39m prepare_sys(n, m, k, fun_wrapped, bc_wrapped,\n\u001b[1;32m   1082\u001b[0m                                fun_jac_wrapped, bc_jac_wrapped, x, h)\n\u001b[0;32m-> 1083\u001b[0m y, p, singular \u001b[38;5;241m=\u001b[39m \u001b[43msolve_newton\u001b[49m\u001b[43m(\u001b[49m\u001b[43mn\u001b[49m\u001b[43m,\u001b[49m\u001b[43m \u001b[49m\u001b[43mm\u001b[49m\u001b[43m,\u001b[49m\u001b[43m \u001b[49m\u001b[43mh\u001b[49m\u001b[43m,\u001b[49m\u001b[43m \u001b[49m\u001b[43mcol_fun\u001b[49m\u001b[43m,\u001b[49m\u001b[43m \u001b[49m\u001b[43mbc_wrapped\u001b[49m\u001b[43m,\u001b[49m\u001b[43m \u001b[49m\u001b[43mjac_sys\u001b[49m\u001b[43m,\u001b[49m\n\u001b[1;32m   1084\u001b[0m \u001b[43m                              \u001b[49m\u001b[43my\u001b[49m\u001b[43m,\u001b[49m\u001b[43m \u001b[49m\u001b[43mp\u001b[49m\u001b[43m,\u001b[49m\u001b[43m \u001b[49m\u001b[43mB\u001b[49m\u001b[43m,\u001b[49m\u001b[43m \u001b[49m\u001b[43mtol\u001b[49m\u001b[43m,\u001b[49m\u001b[43m \u001b[49m\u001b[43mbc_tol\u001b[49m\u001b[43m)\u001b[49m\n\u001b[1;32m   1085\u001b[0m iteration \u001b[38;5;241m+\u001b[39m\u001b[38;5;241m=\u001b[39m \u001b[38;5;241m1\u001b[39m\n\u001b[1;32m   1087\u001b[0m col_res, y_middle, f, f_middle \u001b[38;5;241m=\u001b[39m collocation_fun(fun_wrapped, y,\n\u001b[1;32m   1088\u001b[0m                                                  p, x, h)\n",
      "File \u001b[0;32m~/.local/lib/python3.10/site-packages/scipy/integrate/_bvp.py:447\u001b[0m, in \u001b[0;36msolve_newton\u001b[0;34m(n, m, h, col_fun, bc, jac, y, p, B, bvp_tol, bc_tol)\u001b[0m\n\u001b[1;32m    445\u001b[0m \u001b[38;5;28;01mfor\u001b[39;00m iteration \u001b[38;5;129;01min\u001b[39;00m \u001b[38;5;28mrange\u001b[39m(max_iter):\n\u001b[1;32m    446\u001b[0m     \u001b[38;5;28;01mif\u001b[39;00m recompute_jac:\n\u001b[0;32m--> 447\u001b[0m         J \u001b[38;5;241m=\u001b[39m \u001b[43mjac\u001b[49m\u001b[43m(\u001b[49m\u001b[43my\u001b[49m\u001b[43m,\u001b[49m\u001b[43m \u001b[49m\u001b[43mp\u001b[49m\u001b[43m,\u001b[49m\u001b[43m \u001b[49m\u001b[43my_middle\u001b[49m\u001b[43m,\u001b[49m\u001b[43m \u001b[49m\u001b[43mf\u001b[49m\u001b[43m,\u001b[49m\u001b[43m \u001b[49m\u001b[43mf_middle\u001b[49m\u001b[43m,\u001b[49m\u001b[43m \u001b[49m\u001b[43mbc_res\u001b[49m\u001b[43m)\u001b[49m\n\u001b[1;32m    448\u001b[0m         njev \u001b[38;5;241m+\u001b[39m\u001b[38;5;241m=\u001b[39m \u001b[38;5;241m1\u001b[39m\n\u001b[1;32m    449\u001b[0m         \u001b[38;5;28;01mtry\u001b[39;00m:\n",
      "File \u001b[0;32m~/.local/lib/python3.10/site-packages/scipy/integrate/_bvp.py:340\u001b[0m, in \u001b[0;36mprepare_sys.<locals>.sys_jac\u001b[0;34m(y, p, y_middle, f, f_middle, bc0)\u001b[0m\n\u001b[1;32m    337\u001b[0m \u001b[38;5;28;01melse\u001b[39;00m:\n\u001b[1;32m    338\u001b[0m     dbc_dya, dbc_dyb, dbc_dp \u001b[38;5;241m=\u001b[39m bc_jac(y[:, \u001b[38;5;241m0\u001b[39m], y[:, \u001b[38;5;241m-\u001b[39m\u001b[38;5;241m1\u001b[39m], p)\n\u001b[0;32m--> 340\u001b[0m \u001b[38;5;28;01mreturn\u001b[39;00m \u001b[43mconstruct_global_jac\u001b[49m\u001b[43m(\u001b[49m\u001b[43mn\u001b[49m\u001b[43m,\u001b[49m\u001b[43m \u001b[49m\u001b[43mm\u001b[49m\u001b[43m,\u001b[49m\u001b[43m \u001b[49m\u001b[43mk\u001b[49m\u001b[43m,\u001b[49m\u001b[43m \u001b[49m\u001b[43mi_jac\u001b[49m\u001b[43m,\u001b[49m\u001b[43m \u001b[49m\u001b[43mj_jac\u001b[49m\u001b[43m,\u001b[49m\u001b[43m \u001b[49m\u001b[43mh\u001b[49m\u001b[43m,\u001b[49m\u001b[43m \u001b[49m\u001b[43mdf_dy\u001b[49m\u001b[43m,\u001b[49m\n\u001b[1;32m    341\u001b[0m \u001b[43m                            \u001b[49m\u001b[43mdf_dy_middle\u001b[49m\u001b[43m,\u001b[49m\u001b[43m \u001b[49m\u001b[43mdf_dp\u001b[49m\u001b[43m,\u001b[49m\u001b[43m \u001b[49m\u001b[43mdf_dp_middle\u001b[49m\u001b[43m,\u001b[49m\u001b[43m \u001b[49m\u001b[43mdbc_dya\u001b[49m\u001b[43m,\u001b[49m\n\u001b[1;32m    342\u001b[0m \u001b[43m                            \u001b[49m\u001b[43mdbc_dyb\u001b[49m\u001b[43m,\u001b[49m\u001b[43m \u001b[49m\u001b[43mdbc_dp\u001b[49m\u001b[43m)\u001b[49m\n",
      "File \u001b[0;32m~/.local/lib/python3.10/site-packages/scipy/integrate/_bvp.py:273\u001b[0m, in \u001b[0;36mconstruct_global_jac\u001b[0;34m(n, m, k, i_jac, j_jac, h, df_dy, df_dy_middle, df_dp, df_dp_middle, dbc_dya, dbc_dyb, dbc_dp)\u001b[0m\n\u001b[1;32m    270\u001b[0m     values \u001b[38;5;241m=\u001b[39m np\u001b[38;5;241m.\u001b[39mhstack((values, dPhi_dp\u001b[38;5;241m.\u001b[39mravel(), dbc_dp\u001b[38;5;241m.\u001b[39mravel()))\n\u001b[1;32m    272\u001b[0m J \u001b[38;5;241m=\u001b[39m coo_matrix((values, (i_jac, j_jac)))\n\u001b[0;32m--> 273\u001b[0m \u001b[38;5;28;01mreturn\u001b[39;00m \u001b[43mcsc_matrix\u001b[49m\u001b[43m(\u001b[49m\u001b[43mJ\u001b[49m\u001b[43m)\u001b[49m\n",
      "File \u001b[0;32m~/.local/lib/python3.10/site-packages/scipy/sparse/_compressed.py:33\u001b[0m, in \u001b[0;36m_cs_matrix.__init__\u001b[0;34m(self, arg1, shape, dtype, copy)\u001b[0m\n\u001b[1;32m     31\u001b[0m         arg1 \u001b[38;5;241m=\u001b[39m arg1\u001b[38;5;241m.\u001b[39mcopy()\n\u001b[1;32m     32\u001b[0m     \u001b[38;5;28;01melse\u001b[39;00m:\n\u001b[0;32m---> 33\u001b[0m         arg1 \u001b[38;5;241m=\u001b[39m \u001b[43marg1\u001b[49m\u001b[38;5;241;43m.\u001b[39;49m\u001b[43masformat\u001b[49m\u001b[43m(\u001b[49m\u001b[38;5;28;43mself\u001b[39;49m\u001b[38;5;241;43m.\u001b[39;49m\u001b[43mformat\u001b[49m\u001b[43m)\u001b[49m\n\u001b[1;32m     34\u001b[0m     \u001b[38;5;28mself\u001b[39m\u001b[38;5;241m.\u001b[39m_set_self(arg1)\n\u001b[1;32m     36\u001b[0m \u001b[38;5;28;01melif\u001b[39;00m \u001b[38;5;28misinstance\u001b[39m(arg1, \u001b[38;5;28mtuple\u001b[39m):\n",
      "File \u001b[0;32m~/.local/lib/python3.10/site-packages/scipy/sparse/_base.py:376\u001b[0m, in \u001b[0;36mspmatrix.asformat\u001b[0;34m(self, format, copy)\u001b[0m\n\u001b[1;32m    374\u001b[0m \u001b[38;5;66;03m# Forward the copy kwarg, if it's accepted.\u001b[39;00m\n\u001b[1;32m    375\u001b[0m \u001b[38;5;28;01mtry\u001b[39;00m:\n\u001b[0;32m--> 376\u001b[0m     \u001b[38;5;28;01mreturn\u001b[39;00m \u001b[43mconvert_method\u001b[49m\u001b[43m(\u001b[49m\u001b[43mcopy\u001b[49m\u001b[38;5;241;43m=\u001b[39;49m\u001b[43mcopy\u001b[49m\u001b[43m)\u001b[49m\n\u001b[1;32m    377\u001b[0m \u001b[38;5;28;01mexcept\u001b[39;00m \u001b[38;5;167;01mTypeError\u001b[39;00m:\n\u001b[1;32m    378\u001b[0m     \u001b[38;5;28;01mreturn\u001b[39;00m convert_method()\n",
      "File \u001b[0;32m~/.local/lib/python3.10/site-packages/scipy/sparse/_coo.py:364\u001b[0m, in \u001b[0;36mcoo_matrix.tocsc\u001b[0;34m(self, copy)\u001b[0m\n\u001b[1;32m    361\u001b[0m indices \u001b[38;5;241m=\u001b[39m np\u001b[38;5;241m.\u001b[39mempty_like(row, dtype\u001b[38;5;241m=\u001b[39midx_dtype)\n\u001b[1;32m    362\u001b[0m data \u001b[38;5;241m=\u001b[39m np\u001b[38;5;241m.\u001b[39mempty_like(\u001b[38;5;28mself\u001b[39m\u001b[38;5;241m.\u001b[39mdata, dtype\u001b[38;5;241m=\u001b[39mupcast(\u001b[38;5;28mself\u001b[39m\u001b[38;5;241m.\u001b[39mdtype))\n\u001b[0;32m--> 364\u001b[0m \u001b[43mcoo_tocsr\u001b[49m\u001b[43m(\u001b[49m\u001b[43mN\u001b[49m\u001b[43m,\u001b[49m\u001b[43m \u001b[49m\u001b[43mM\u001b[49m\u001b[43m,\u001b[49m\u001b[43m \u001b[49m\u001b[38;5;28;43mself\u001b[39;49m\u001b[38;5;241;43m.\u001b[39;49m\u001b[43mnnz\u001b[49m\u001b[43m,\u001b[49m\u001b[43m \u001b[49m\u001b[43mcol\u001b[49m\u001b[43m,\u001b[49m\u001b[43m \u001b[49m\u001b[43mrow\u001b[49m\u001b[43m,\u001b[49m\u001b[43m \u001b[49m\u001b[38;5;28;43mself\u001b[39;49m\u001b[38;5;241;43m.\u001b[39;49m\u001b[43mdata\u001b[49m\u001b[43m,\u001b[49m\n\u001b[1;32m    365\u001b[0m \u001b[43m          \u001b[49m\u001b[43mindptr\u001b[49m\u001b[43m,\u001b[49m\u001b[43m \u001b[49m\u001b[43mindices\u001b[49m\u001b[43m,\u001b[49m\u001b[43m \u001b[49m\u001b[43mdata\u001b[49m\u001b[43m)\u001b[49m\n\u001b[1;32m    367\u001b[0m x \u001b[38;5;241m=\u001b[39m \u001b[38;5;28mself\u001b[39m\u001b[38;5;241m.\u001b[39m_csc_container((data, indices, indptr), shape\u001b[38;5;241m=\u001b[39m\u001b[38;5;28mself\u001b[39m\u001b[38;5;241m.\u001b[39mshape)\n\u001b[1;32m    368\u001b[0m \u001b[38;5;28;01mif\u001b[39;00m \u001b[38;5;129;01mnot\u001b[39;00m \u001b[38;5;28mself\u001b[39m\u001b[38;5;241m.\u001b[39mhas_canonical_format:\n",
      "\u001b[0;31mKeyboardInterrupt\u001b[0m: "
     ]
    }
   ],
   "source": [
    "\n",
    "best_path(\n",
    "    [\n",
    "        (5, lambda t:np.ones_like(t)*-1, lambda t:np.ones_like(t)*-1),\n",
    "        (10, lambda t: np.ones_like(t)*10, lambda t: np.ones_like(t)*10),\n",
    "        (10, lambda t:np.ones_like(t)*0, lambda t:np.ones_like(t)*5)\n",
    "    ],\n",
    "    10, \n",
    "    figname='fig1.pdf',\n",
    "    animname=\"anim1.mp4\",\n",
    "    max_nodes=50000\n",
    ")"
   ]
  },
  {
   "cell_type": "code",
   "execution_count": null,
   "metadata": {},
   "outputs": [
    {
     "name": "stdout",
     "output_type": "stream",
     "text": [
      "Running solve_bvp...\n",
      "   Iteration    Max residual  Max BC residual  Total nodes    Nodes added  \n",
      "       1          2.31e+02       9.57e-01         10000          19998     \n",
      "       2          1.08e+02       4.81e-01         29998          59994     \n",
      "       3          1.26e+02       2.38e-01         89992         179982     \n",
      "       4          9.86e+02       1.37e-01        269974        (539946)    \n",
      "Number of nodes is exceeded after iteration 4. \n",
      "Maximum relative residual: 9.86e+02 \n",
      "Maximum boundary residual: 1.37e-01\n",
      "Figure saved to fig2.pdf\n",
      "Saving animation...\n",
      "Animation saved to anim2.mp4\n"
     ]
    }
   ],
   "source": [
    "best_path(\n",
    "    [\n",
    "        (10, lambda t:3*np.cos(t)+1, lambda t:np.sin(t)-2),\n",
    "        (20, lambda t:2*np.cos(t+np.pi)-3, lambda t:.5*np.sin(t+np.pi)+4),\n",
    "        (15, lambda t:np.zeros_like(t)-2, lambda t:np.zeros_like(t)+1),\n",
    "    ], \n",
    "    np.pi*2,\n",
    "    figname=\"fig2.pdf\",\n",
    "    animname=\"anim2.mp4\",\n",
    "    max_nodes=300000\n",
    ")"
   ]
  },
  {
   "cell_type": "code",
   "execution_count": null,
   "metadata": {},
   "outputs": [
    {
     "name": "stdout",
     "output_type": "stream",
     "text": [
      "Running solve_bvp...\n",
      "   Iteration    Max residual  Max BC residual  Total nodes    Nodes added  \n",
      "       1          7.96e+01       1.72e+00         10000          19998     \n",
      "       2          2.22e+03       3.03e-01         29998          59994     \n",
      "       3          1.33e+03       4.26e-02         89992        (177935)    \n",
      "Number of nodes is exceeded after iteration 3. \n",
      "Maximum relative residual: 1.33e+03 \n",
      "Maximum boundary residual: 4.26e-02\n",
      "Figure saved to fig3.pdf\n",
      "Saving animation...\n",
      "Animation saved to anim3.mp4\n"
     ]
    }
   ],
   "source": [
    "best_path(\n",
    "    [\n",
    "        (1, lambda t:3*np.cos(t)+1, lambda t:np.sin(t)-4),\n",
    "        (2, lambda t:2*np.cos(t+np.pi)-2, lambda t:.5*np.sin(t+np.pi)+7),\n",
    "        (200, lambda t:np.zeros_like(t)-1, lambda t:np.zeros_like(t)+4),\n",
    "    ], \n",
    "    np.pi*2,\n",
    "    figname=\"fig3.pdf\",\n",
    "    animname=\"anim3.mp4\",\n",
    ")"
   ]
  },
  {
   "cell_type": "code",
   "execution_count": 24,
   "metadata": {},
   "outputs": [
    {
     "name": "stdout",
     "output_type": "stream",
     "text": [
      "Running solve_bvp...\n",
      "   Iteration    Max residual  Max BC residual  Total nodes    Nodes added  \n",
      "       1          9.91e+02       2.34e+00         10000          14733     \n",
      "       2          1.46e+03       5.77e-01         24733          31490     \n",
      "       3          2.69e+05       1.22e-01         56223          83849     \n",
      "       4          2.11e+06       7.02e-02        140072        (233643)    \n",
      "Number of nodes is exceeded after iteration 4. \n",
      "Maximum relative residual: 2.11e+06 \n",
      "Maximum boundary residual: 7.02e-02\n",
      "Figure saved to fig4.pdf\n",
      "Saving animation...\n",
      "Animation saved to anim4.mp4\n"
     ]
    }
   ],
   "source": [
    "best_path(\n",
    "    [\n",
    "        (1, lambda t:10*np.cos(t)+10, lambda t:5*np.sin(t)-4),\n",
    "        (10, lambda t:-7*np.cos(3*t+np.pi)-4, lambda t:.5*np.sin(0.1*t+np.pi)+7),\n",
    "        (10, lambda t:-7*np.cos(4*t+np.pi)+5, lambda t:4*np.sin(2*t+np.pi)+2),\n",
    "        (20, lambda t:4*np.zeros_like(1+t)-1, lambda t:np.zeros_like(t)+4),\n",
    "    ], \n",
    "    np.pi*2,\n",
    "    figname=\"fig4.pdf\",\n",
    "    animname=\"anim4.mp4\",\n",
    "    max_nodes=200000\n",
    ")"
   ]
  },
  {
   "cell_type": "code",
   "execution_count": 26,
   "metadata": {},
   "outputs": [],
   "source": [
    "def combine_test_videos(output_video_name, anim_filenames):\n",
    "    \"\"\"Create a unified video that combines the test videos.\n",
    "    \n",
    "    This function suppresses errors during running ffmpeg, so\n",
    "    if it's not working, make sure you have ffmpeg installed on \n",
    "    your computer.\n",
    "    \"\"\"\n",
    "    print(f\"Combining into {anim_filenames}\")\n",
    "    files = anim_filenames\n",
    "    \n",
    "    # Grab singular test video files in this directory.\n",
    "    # for f in glob.glob(\"test_*.mp4\", root_dir=\".\"):\n",
    "    #     files.append(f)\n",
    "    \n",
    "    # Create a grid by getting the n. rows needed, and duplicating the last video until it's a rectangle\n",
    "    n_rows = len(anim_filenames) // 3\n",
    "    n_leftover_spots = len(anim_filenames) % 3\n",
    "    files += [files[-1] for _ in range(n_leftover_spots)]\n",
    "    i = 0\n",
    "    \n",
    "    # at this point, there are enough videos in files to be rectangular.\n",
    "    n_rows = len(files) // 3\n",
    "    \n",
    "    # Now we construct an ffmpeg command to combine the videos into a 3-column grid.\n",
    "    inclusion_rows = \" \".join([f\"-i {files[3*r]} -i {files[3*r+1]} -i {files[3*r+2]}\" for r in range(n_rows)])\n",
    "    filter_complex_rows = \"; \".join([f\"[{3*r}:v][{3*r+1}:v][{3*r+2}:v]hstack=inputs=3[t{r}]\" for r in range(n_rows)])\n",
    "    vstack_cmd = \"\".join([f\"[t{r}]\" for r in range(n_rows)]) + f\"vstack=inputs={n_rows}[v]\"\n",
    "    \n",
    "    # Only combine if all the test files are produced correctly.    \n",
    "    if len(files) >= 5:\n",
    "        subprocess.run(shlex.split(f\"\"\"ffmpeg -y \\\n",
    "            {inclusion_rows} \\\n",
    "            -filter_complex \\\n",
    "            \\\"{filter_complex_rows}; {vstack_cmd}\\\" \\\n",
    "            -map \"[v]\" \\\n",
    "            {output_video_name}\n",
    "        \"\"\"),\n",
    "            # stdout = subprocess.STDOUT,\n",
    "            # stderr = subprocess.STDOUT\n",
    "        )"
   ]
  },
  {
   "cell_type": "code",
   "execution_count": 27,
   "metadata": {},
   "outputs": [
    {
     "name": "stdout",
     "output_type": "stream",
     "text": [
      "Combining into ['anim1.mp4', 'anim2.mp4', 'anim3.mp4', 'anim4.mp4', 'anim4.mp4']\n"
     ]
    },
    {
     "name": "stderr",
     "output_type": "stream",
     "text": [
      "ffmpeg version 4.2.7-0ubuntu0.1 Copyright (c) 2000-2022 the FFmpeg developers\n",
      "  built with gcc 9 (Ubuntu 9.4.0-1ubuntu1~20.04.1)\n",
      "  configuration: --prefix=/usr --extra-version=0ubuntu0.1 --toolchain=hardened --libdir=/usr/lib/x86_64-linux-gnu --incdir=/usr/include/x86_64-linux-gnu --arch=amd64 --enable-gpl --disable-stripping --enable-avresample --disable-filter=resample --enable-avisynth --enable-gnutls --enable-ladspa --enable-libaom --enable-libass --enable-libbluray --enable-libbs2b --enable-libcaca --enable-libcdio --enable-libcodec2 --enable-libflite --enable-libfontconfig --enable-libfreetype --enable-libfribidi --enable-libgme --enable-libgsm --enable-libjack --enable-libmp3lame --enable-libmysofa --enable-libopenjpeg --enable-libopenmpt --enable-libopus --enable-libpulse --enable-librsvg --enable-librubberband --enable-libshine --enable-libsnappy --enable-libsoxr --enable-libspeex --enable-libssh --enable-libtheora --enable-libtwolame --enable-libvidstab --enable-libvorbis --enable-libvpx --enable-libwavpack --enable-libwebp --enable-libx265 --enable-libxml2 --enable-libxvid --enable-libzmq --enable-libzvbi --enable-lv2 --enable-omx --enable-openal --enable-opencl --enable-opengl --enable-sdl2 --enable-libdc1394 --enable-libdrm --enable-libiec61883 --enable-nvenc --enable-chromaprint --enable-frei0r --enable-libx264 --enable-shared\n",
      "  libavutil      56. 31.100 / 56. 31.100\n",
      "  libavcodec     58. 54.100 / 58. 54.100\n",
      "  libavformat    58. 29.100 / 58. 29.100\n",
      "  libavdevice    58.  8.100 / 58.  8.100\n",
      "  libavfilter     7. 57.100 /  7. 57.100\n",
      "  libavresample   4.  0.  0 /  4.  0.  0\n",
      "  libswscale      5.  5.100 /  5.  5.100\n",
      "  libswresample   3.  5.100 /  3.  5.100\n",
      "  libpostproc    55.  5.100 / 55.  5.100\n",
      "Input #0, mov,mp4,m4a,3gp,3g2,mj2, from 'anim1.mp4':\n",
      "  Metadata:\n",
      "    major_brand     : isom\n",
      "    minor_version   : 512\n",
      "    compatible_brands: isomiso2avc1mp41\n",
      "    encoder         : Lavf58.29.100\n",
      "  Duration: 00:00:03.00, start: 0.000000, bitrate: 132 kb/s\n",
      "    Stream #0:0(und): Video: h264 (High) (avc1 / 0x31637661), yuv420p, 1500x1500, 128 kb/s, 16.67 fps, 16.67 tbr, 12800 tbn, 33.33 tbc (default)\n",
      "    Metadata:\n",
      "      handler_name    : VideoHandler\n",
      "Input #1, mov,mp4,m4a,3gp,3g2,mj2, from 'anim2.mp4':\n",
      "  Metadata:\n",
      "    major_brand     : isom\n",
      "    minor_version   : 512\n",
      "    compatible_brands: isomiso2avc1mp41\n",
      "    encoder         : Lavf58.29.100\n",
      "  Duration: 00:00:03.00, start: 0.000000, bitrate: 157 kb/s\n",
      "    Stream #1:0(und): Video: h264 (High) (avc1 / 0x31637661), yuv420p, 1500x1500, 154 kb/s, 16.67 fps, 16.67 tbr, 12800 tbn, 33.33 tbc (default)\n",
      "    Metadata:\n",
      "      handler_name    : VideoHandler\n",
      "Input #2, mov,mp4,m4a,3gp,3g2,mj2, from 'anim3.mp4':\n",
      "  Metadata:\n",
      "    major_brand     : isom\n",
      "    minor_version   : 512\n",
      "    compatible_brands: isomiso2avc1mp41\n",
      "    encoder         : Lavf58.29.100\n",
      "  Duration: 00:00:03.00, start: 0.000000, bitrate: 141 kb/s\n",
      "    Stream #2:0(und): Video: h264 (High) (avc1 / 0x31637661), yuv420p, 1500x1500, 138 kb/s, 16.67 fps, 16.67 tbr, 12800 tbn, 33.33 tbc (default)\n",
      "    Metadata:\n",
      "      handler_name    : VideoHandler\n",
      "Input #3, mov,mp4,m4a,3gp,3g2,mj2, from 'anim4.mp4':\n",
      "  Metadata:\n",
      "    major_brand     : isom\n",
      "    minor_version   : 512\n",
      "    compatible_brands: isomiso2avc1mp41\n",
      "    encoder         : Lavf58.29.100\n",
      "  Duration: 00:00:03.00, start: 0.000000, bitrate: 210 kb/s\n",
      "    Stream #3:0(und): Video: h264 (High) (avc1 / 0x31637661), yuv420p, 1500x1500, 206 kb/s, 16.67 fps, 16.67 tbr, 12800 tbn, 33.33 tbc (default)\n",
      "    Metadata:\n",
      "      handler_name    : VideoHandler\n",
      "Input #4, mov,mp4,m4a,3gp,3g2,mj2, from 'anim4.mp4':\n",
      "  Metadata:\n",
      "    major_brand     : isom\n",
      "    minor_version   : 512\n",
      "    compatible_brands: isomiso2avc1mp41\n",
      "    encoder         : Lavf58.29.100\n",
      "  Duration: 00:00:03.00, start: 0.000000, bitrate: 210 kb/s\n",
      "    Stream #4:0(und): Video: h264 (High) (avc1 / 0x31637661), yuv420p, 1500x1500, 206 kb/s, 16.67 fps, 16.67 tbr, 12800 tbn, 33.33 tbc (default)\n",
      "    Metadata:\n",
      "      handler_name    : VideoHandler\n",
      "Input #5, mov,mp4,m4a,3gp,3g2,mj2, from 'anim4.mp4':\n",
      "  Metadata:\n",
      "    major_brand     : isom\n",
      "    minor_version   : 512\n",
      "    compatible_brands: isomiso2avc1mp41\n",
      "    encoder         : Lavf58.29.100\n",
      "  Duration: 00:00:03.00, start: 0.000000, bitrate: 210 kb/s\n",
      "    Stream #5:0(und): Video: h264 (High) (avc1 / 0x31637661), yuv420p, 1500x1500, 206 kb/s, 16.67 fps, 16.67 tbr, 12800 tbn, 33.33 tbc (default)\n",
      "    Metadata:\n",
      "      handler_name    : VideoHandler\n",
      "Stream mapping:\n",
      "  Stream #0:0 (h264) -> hstack:input0\n",
      "  Stream #1:0 (h264) -> hstack:input1\n",
      "  Stream #2:0 (h264) -> hstack:input2\n",
      "  Stream #3:0 (h264) -> hstack:input0\n",
      "  Stream #4:0 (h264) -> hstack:input1\n",
      "  Stream #5:0 (h264) -> hstack:input2\n",
      "  vstack -> Stream #0:0 (libx264)\n",
      "Press [q] to stop, [?] for help\n",
      "[libx264 @ 0x5568dbc63ec0] using cpu capabilities: MMX2 SSE2Fast SSSE3 SSE4.2 AVX FMA3 BMI2 AVX2\n",
      "[libx264 @ 0x5568dbc63ec0] profile High, level 6.0\n",
      "[libx264 @ 0x5568dbc63ec0] 264 - core 155 r2917 0a84d98 - H.264/MPEG-4 AVC codec - Copyleft 2003-2018 - http://www.videolan.org/x264.html - options: cabac=1 ref=3 deblock=1:0:0 analyse=0x3:0x113 me=hex subme=7 psy=1 psy_rd=1.00:0.00 mixed_ref=1 me_range=16 chroma_me=1 trellis=1 8x8dct=1 cqm=0 deadzone=21,11 fast_pskip=1 chroma_qp_offset=-2 threads=12 lookahead_threads=2 sliced_threads=0 nr=0 decimate=1 interlaced=0 bluray_compat=0 constrained_intra=0 bframes=3 b_pyramid=2 b_adapt=1 b_bias=0 direct=1 weightb=1 open_gop=0 weightp=2 keyint=250 keyint_min=16 scenecut=40 intra_refresh=0 rc_lookahead=40 rc=crf mbtree=1 crf=23.0 qcomp=0.60 qpmin=0 qpmax=69 qpstep=4 ip_ratio=1.40 aq=1:1.00\n",
      "Output #0, mp4, to 'combined.mp4':\n",
      "  Metadata:\n",
      "    major_brand     : isom\n",
      "    minor_version   : 512\n",
      "    compatible_brands: isomiso2avc1mp41\n",
      "    encoder         : Lavf58.29.100\n",
      "    Stream #0:0: Video: h264 (libx264) (avc1 / 0x31637661), yuv420p, 4500x3000, q=-1--1, 16.67 fps, 12800 tbn, 16.67 tbc (default)\n",
      "    Metadata:\n",
      "      encoder         : Lavc58.54.100 libx264\n",
      "    Side data:\n",
      "      cpb: bitrate max/min/avg: 0/0/0 buffer size: 0 vbv_delay: -1\n",
      "frame=   50 fps= 19 q=-1.0 Lsize=     383kB time=00:00:02.82 bitrate=1113.4kbits/s speed=1.09x    \n",
      "video:382kB audio:0kB subtitle:0kB other streams:0kB global headers:0kB muxing overhead: 0.300282%\n",
      "[libx264 @ 0x5568dbc63ec0] frame I:1     Avg QP:16.63  size:141808\n",
      "[libx264 @ 0x5568dbc63ec0] frame P:41    Avg QP:20.19  size:  5629\n",
      "[libx264 @ 0x5568dbc63ec0] frame B:8     Avg QP:26.33  size:  2253\n",
      "[libx264 @ 0x5568dbc63ec0] consecutive B-frames: 72.0% 16.0% 12.0%  0.0%\n",
      "[libx264 @ 0x5568dbc63ec0] mb I  I16..4: 37.6% 56.7%  5.7%\n",
      "[libx264 @ 0x5568dbc63ec0] mb P  I16..4:  0.1%  0.1%  0.1%  P16..4:  0.8%  0.1%  0.1%  0.0%  0.0%    skip:98.7%\n",
      "[libx264 @ 0x5568dbc63ec0] mb B  I16..4:  0.0%  0.0%  0.1%  B16..8:  0.8%  0.1%  0.0%  direct: 0.0%  skip:99.0%  L0:56.1% L1:43.1% BI: 0.8%\n",
      "[libx264 @ 0x5568dbc63ec0] 8x8 transform intra:54.5% inter:19.2%\n",
      "[libx264 @ 0x5568dbc63ec0] coded y,uvDC,uvAC intra: 5.6% 6.6% 6.3% inter: 0.1% 0.2% 0.1%\n",
      "[libx264 @ 0x5568dbc63ec0] i16 v,h,dc,p: 81% 17%  2%  0%\n",
      "[libx264 @ 0x5568dbc63ec0] i8 v,h,dc,ddl,ddr,vr,hd,vl,hu: 69%  3% 29%  0%  0%  0%  0%  0%  0%\n",
      "[libx264 @ 0x5568dbc63ec0] i4 v,h,dc,ddl,ddr,vr,hd,vl,hu: 37% 22% 24%  3%  3%  3%  4%  2%  3%\n",
      "[libx264 @ 0x5568dbc63ec0] i8c dc,h,v,p: 94%  3%  2%  0%\n",
      "[libx264 @ 0x5568dbc63ec0] Weighted P-Frames: Y:0.0% UV:0.0%\n",
      "[libx264 @ 0x5568dbc63ec0] ref P L0: 81.2%  2.5% 12.4%  3.9%\n",
      "[libx264 @ 0x5568dbc63ec0] ref B L0: 80.5% 17.5%  2.0%\n",
      "[libx264 @ 0x5568dbc63ec0] kb/s:1041.62\n"
     ]
    }
   ],
   "source": [
    "combine_test_videos(\"combined.mp4\", [\"anim1.mp4\", \"anim2.mp4\", \"anim3.mp4\", \"anim4.mp4\", \"anim4.mp4\"])"
   ]
  }
 ],
 "metadata": {
  "kernelspec": {
   "display_name": "Python 3",
   "language": "python",
   "name": "python3"
  },
  "language_info": {
   "codemirror_mode": {
    "name": "ipython",
    "version": 3
   },
   "file_extension": ".py",
   "mimetype": "text/x-python",
   "name": "python",
   "nbconvert_exporter": "python",
   "pygments_lexer": "ipython3",
   "version": "3.10.12"
  }
 },
 "nbformat": 4,
 "nbformat_minor": 2
}
